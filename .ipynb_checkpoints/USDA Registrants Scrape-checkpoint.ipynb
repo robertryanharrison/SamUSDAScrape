{
 "cells": [
  {
   "cell_type": "code",
   "execution_count": 1,
   "metadata": {},
   "outputs": [
    {
     "ename": "ModuleNotFoundError",
     "evalue": "No module named 'selenium'",
     "output_type": "error",
     "traceback": [
      "\u001b[1;31m---------------------------------------------------------------------------\u001b[0m",
      "\u001b[1;31mModuleNotFoundError\u001b[0m                       Traceback (most recent call last)",
      "\u001b[1;32m<ipython-input-1-7d106e398c58>\u001b[0m in \u001b[0;36m<module>\u001b[1;34m\u001b[0m\n\u001b[1;32m----> 1\u001b[1;33m \u001b[1;32mfrom\u001b[0m \u001b[0mselenium\u001b[0m \u001b[1;32mimport\u001b[0m \u001b[0mwebdriver\u001b[0m\u001b[1;33m\u001b[0m\u001b[1;33m\u001b[0m\u001b[0m\n\u001b[0m\u001b[0;32m      2\u001b[0m \u001b[1;32mimport\u001b[0m \u001b[0mtime\u001b[0m\u001b[1;33m\u001b[0m\u001b[1;33m\u001b[0m\u001b[0m\n\u001b[0;32m      3\u001b[0m \u001b[1;32mimport\u001b[0m \u001b[0mpandas\u001b[0m \u001b[1;32mas\u001b[0m \u001b[0mpd\u001b[0m\u001b[1;33m\u001b[0m\u001b[1;33m\u001b[0m\u001b[0m\n\u001b[0;32m      4\u001b[0m \u001b[1;32mimport\u001b[0m \u001b[0mnumpy\u001b[0m \u001b[1;32mas\u001b[0m \u001b[0mnp\u001b[0m\u001b[1;33m\u001b[0m\u001b[1;33m\u001b[0m\u001b[0m\n\u001b[0;32m      5\u001b[0m \u001b[1;32mimport\u001b[0m \u001b[0mre\u001b[0m\u001b[1;33m\u001b[0m\u001b[1;33m\u001b[0m\u001b[0m\n",
      "\u001b[1;31mModuleNotFoundError\u001b[0m: No module named 'selenium'"
     ]
    }
   ],
   "source": [
    "from selenium import webdriver\n",
    "import time \n",
    "import pandas as pd\n",
    "import numpy as np \n",
    "import re \n",
    "\n",
    "from bs4 import BeautifulSoup as bs \n",
    "import requests"
   ]
  },
  {
   "cell_type": "markdown",
   "metadata": {},
   "source": [
    "### Use Selenium to Open URL"
   ]
  },
  {
   "cell_type": "code",
   "execution_count": null,
   "metadata": {},
   "outputs": [],
   "source": [
    "driver = webdriver.Chrome(\"C:\\chromedriver_win32\\chromedriver.exe\")\n",
    "url = 'https://acis.aphis.edc.usda.gov/ords/f?p=118:205'\n",
    "view_registrants_button = '/html/body/form/div/div[2]/section[2]/table/tbody/tr/td[1]/div/a'\n",
    "\n",
    "driver.get(url)\n",
    "driver.find_element_by_xpath(view_registrants_button).click()"
   ]
  },
  {
   "cell_type": "markdown",
   "metadata": {},
   "source": [
    "### Use Selenium to Click Table Then Itterate through the pages to add Each Element to a List for 1st DF"
   ]
  },
  {
   "cell_type": "code",
   "execution_count": null,
   "metadata": {},
   "outputs": [],
   "source": [
    "view_registrants_button = '/html/body/form/div/div[2]/section[2]/table/tbody/tr/td[1]/div/a'\n",
    "registrants_xpath= '//*[@id=\"report_R81923131975772430\"]/tbody[2]/tr/td/table'\n",
    "registrants_next_button = '//*[@id=\"report_R81923131975772430\"]/tbody[3]/tr/td/table/tbody/tr/td[4]/a'\n",
    "\n",
    "counter = 0\n",
    "lst = []\n",
    "lst1 = []\n",
    "\n",
    "driver.find_element_by_xpath(view_registrants_button).click()\n",
    "\n",
    "while counter <= 173:\n",
    "    time.sleep(5)\n",
    "    driver.find_element_by_xpath(registrants_xpath)\n",
    "    for b in driver.find_elements_by_xpath(registrants_xpath):\n",
    "        br = b.find_elements_by_tag_name('b')\n",
    "        lst.append([b.text.replace('\\n', ' ').strip() for b in br])\n",
    "    for tr in driver.find_elements_by_xpath(registrants_xpath):\n",
    "        tds = tr.find_elements_by_tag_name('td')\n",
    "        lst1.append([td.text.replace('\\n', ' ').strip() for td in tds])\n",
    "    driver.find_element_by_xpath(registrants_next_button).click()\n",
    "    time.sleep(2)\n",
    "    counter += 1 "
   ]
  },
  {
   "cell_type": "markdown",
   "metadata": {},
   "source": [
    "### Reshape List into DF "
   ]
  },
  {
   "cell_type": "code",
   "execution_count": null,
   "metadata": {},
   "outputs": [],
   "source": [
    "df = pd.DataFrame(np.array(lst).reshape(-1 ,5))"
   ]
  },
  {
   "cell_type": "code",
   "execution_count": null,
   "metadata": {},
   "outputs": [],
   "source": [
    "df2 = pd.DataFrame(np.array(lst1).reshape(-1 ,3))"
   ]
  },
  {
   "cell_type": "markdown",
   "metadata": {},
   "source": [
    "### Rename Columns"
   ]
  },
  {
   "cell_type": "code",
   "execution_count": null,
   "metadata": {},
   "outputs": [],
   "source": [
    "df.columns = [['org_name',\n",
    "               'customer_no',\n",
    "               'certificate_no',\n",
    "              'certificate_status',\n",
    "              'status_date']]"
   ]
  },
  {
   "cell_type": "code",
   "execution_count": null,
   "metadata": {},
   "outputs": [],
   "source": [
    "df2.columns = [['0','1','address']]"
   ]
  },
  {
   "cell_type": "code",
   "execution_count": null,
   "metadata": {},
   "outputs": [],
   "source": [
    "df.head(2)"
   ]
  },
  {
   "cell_type": "code",
   "execution_count": null,
   "metadata": {},
   "outputs": [],
   "source": [
    "addresses = []\n",
    "for i in range(len(df2)): \n",
    "  addresses.append(df2.loc[i, 'address'])"
   ]
  },
  {
   "cell_type": "code",
   "execution_count": null,
   "metadata": {},
   "outputs": [],
   "source": [
    "df3 = pd.DataFrame(np.array(addresses).reshape(-1 ,1))"
   ]
  },
  {
   "cell_type": "code",
   "execution_count": null,
   "metadata": {},
   "outputs": [],
   "source": [
    "df3 = df3.astype(str)"
   ]
  },
  {
   "cell_type": "code",
   "execution_count": null,
   "metadata": {},
   "outputs": [],
   "source": [
    "concat = pd.concat([df,df3], axis = 1)\n",
    "concat.head()"
   ]
  },
  {
   "cell_type": "code",
   "execution_count": null,
   "metadata": {},
   "outputs": [],
   "source": [
    "concat.columns = [['org_name',\n",
    "               'customer_no',\n",
    "               'certificate_no',\n",
    "              'certificate_status',\n",
    "              'status_date',\n",
    "                   'address']]"
   ]
  },
  {
   "cell_type": "code",
   "execution_count": null,
   "metadata": {},
   "outputs": [],
   "source": [
    "concat.head()"
   ]
  },
  {
   "cell_type": "code",
   "execution_count": null,
   "metadata": {},
   "outputs": [],
   "source": [
    "concat.to_excel(r'C:\\Users\\harri\\OneDrive\\Documents\\USDA Reports\\Registrants.xlsx', index = False)"
   ]
  }
 ],
 "metadata": {
  "kernelspec": {
   "display_name": "Python 3",
   "language": "python",
   "name": "python3"
  },
  "language_info": {
   "codemirror_mode": {
    "name": "ipython",
    "version": 3
   },
   "file_extension": ".py",
   "mimetype": "text/x-python",
   "name": "python",
   "nbconvert_exporter": "python",
   "pygments_lexer": "ipython3",
   "version": "3.8.3"
  }
 },
 "nbformat": 4,
 "nbformat_minor": 4
}
